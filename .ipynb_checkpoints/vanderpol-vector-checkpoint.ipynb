{
 "cells": [
  {
   "cell_type": "code",
   "execution_count": 1,
   "id": "e91d5c1f-0964-4f11-80df-40a380c61824",
   "metadata": {},
   "outputs": [],
   "source": [
    "using Plots"
   ]
  },
  {
   "cell_type": "code",
   "execution_count": 2,
   "id": "21b182f0-237e-496a-b760-db80fee50aea",
   "metadata": {},
   "outputs": [],
   "source": [
    "using DifferentialEquations"
   ]
  },
  {
   "cell_type": "code",
   "execution_count": 11,
   "id": "bef6b885-5f8b-4443-93f6-ec18579f30e1",
   "metadata": {},
   "outputs": [],
   "source": [
    "function main(mu)\n",
    "    function vdp_sun(du, u, p, t)\n",
    "        # dx/dt\n",
    "        du[1] = u[2]\n",
    "        # dy/dt\n",
    "        du[2] = mu * (1.0 - u[1]^2.0) * u[2] - u[1]\n",
    "        du\n",
    "    end\n",
    "    u0=[0.2; -1.2]\n",
    "    tspan=(0.0, 50.0)\n",
    "    prob = ODEProblem(vdp_sun,u0,tspan)\n",
    "    sol = solve(prob,Tsit5(),reltol=1e-8,abstol=1e-8)\n",
    "\n",
    "    u1 = []\n",
    "    u2 = []\n",
    "    for i in sol.u\n",
    "        push!(u1, i[1])\n",
    "        push!(u2, i[2])\n",
    "    end\n",
    "    #k=0.1\n",
    "    #quiver(u1, u2, quiver=(k*u1, k*u2))\n",
    "    return u1, u2\n",
    "end\n",
    "\n",
    "k=0.1\n",
    "u1, u2 = main(1)\n",
    "#X, Y = meshgrid(u1,u2)\n",
    "quiver(u1, u2, quiver=(k*u1, k*u2))\n",
    "\n",
    "u1, u2 = main(2)\n",
    "#X, Y = meshgrid(u1,u2)\n",
    "quiver!(u1, u2, quiver=(k*u1, k*u2))\n",
    "\n",
    "u1, u2 = main(3)\n",
    "#X, Y = meshgrid(u1,u2)\n",
    "quiver!(u1, u2, quiver=(k*u1, k*u2))\n",
    "\n",
    "k=0.1\n",
    "for i = 2:4\n",
    "    #u1, u2 = main(i)\n",
    "    #X, Y = meshgrid(u1,u2)\n",
    "    #quiver!(u1, u2, quiver=(k*u1, k*u2))\n",
    "end"
   ]
  },
  {
   "cell_type": "code",
   "execution_count": null,
   "id": "6f505abc-4d79-42ff-bf04-53d2236405b6",
   "metadata": {},
   "outputs": [],
   "source": []
  },
  {
   "cell_type": "code",
   "execution_count": null,
   "id": "23045d01-04e4-448a-96d3-1b03c3596967",
   "metadata": {},
   "outputs": [],
   "source": []
  },
  {
   "cell_type": "code",
   "execution_count": null,
   "id": "fa0ac694-ac66-4cf3-900c-48e11e32c4f4",
   "metadata": {},
   "outputs": [],
   "source": []
  }
 ],
 "metadata": {
  "kernelspec": {
   "display_name": "Julia 1.5.2",
   "language": "julia",
   "name": "julia-1.5"
  },
  "language_info": {
   "file_extension": ".jl",
   "mimetype": "application/julia",
   "name": "julia",
   "version": "1.5.2"
  }
 },
 "nbformat": 4,
 "nbformat_minor": 5
}
