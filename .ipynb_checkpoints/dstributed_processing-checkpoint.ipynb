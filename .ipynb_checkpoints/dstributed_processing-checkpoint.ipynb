{
 "cells": [
  {
   "cell_type": "code",
   "execution_count": 1,
   "id": "1de713ce-d886-4f6a-8f32-a16beb4f1688",
   "metadata": {},
   "outputs": [],
   "source": [
    "using Distributed"
   ]
  },
  {
   "cell_type": "code",
   "execution_count": 2,
   "id": "694aad27-a123-408e-a910-4c23e1b0bc7d",
   "metadata": {},
   "outputs": [
    {
     "data": {
      "text/plain": [
       "1-element Array{Int64,1}:\n",
       " 2"
      ]
     },
     "execution_count": 2,
     "metadata": {},
     "output_type": "execute_result"
    }
   ],
   "source": [
    "addprocs(1) # リモートのワーカプロセスを追加"
   ]
  },
  {
   "cell_type": "code",
   "execution_count": 3,
   "id": "d8c44713-0c2e-4ff5-90d1-20959989ad82",
   "metadata": {},
   "outputs": [
    {
     "data": {
      "text/plain": [
       "1"
      ]
     },
     "execution_count": 3,
     "metadata": {},
     "output_type": "execute_result"
    }
   ],
   "source": [
    "Distributed.myid() # マスタワーカプロセスのId番号"
   ]
  },
  {
   "cell_type": "code",
   "execution_count": 4,
   "id": "7f577bca-f01f-4321-a14d-62b0e50cba76",
   "metadata": {},
   "outputs": [
    {
     "data": {
      "text/plain": [
       "1-element Array{Int64,1}:\n",
       " 2"
      ]
     },
     "execution_count": 4,
     "metadata": {},
     "output_type": "execute_result"
    }
   ],
   "source": [
    "workers() # リモートワーカプロセスのID"
   ]
  },
  {
   "cell_type": "code",
   "execution_count": 6,
   "id": "2085c9a0-746c-4ac6-967c-9f9857524cc7",
   "metadata": {},
   "outputs": [
    {
     "data": {
      "text/plain": [
       "Future(2, 1, 3, nothing)"
      ]
     },
     "execution_count": 6,
     "metadata": {},
     "output_type": "execute_result"
    }
   ],
   "source": [
    "res = @spawnat 2 myid()"
   ]
  },
  {
   "cell_type": "code",
   "execution_count": 7,
   "id": "24a47588-015f-47fc-be96-7076c27f232c",
   "metadata": {},
   "outputs": [
    {
     "data": {
      "text/plain": [
       "2"
      ]
     },
     "execution_count": 7,
     "metadata": {},
     "output_type": "execute_result"
    }
   ],
   "source": [
    "fetch(res)"
   ]
  },
  {
   "cell_type": "code",
   "execution_count": 8,
   "id": "ce0580ec-dfad-4c7d-a6c2-9a0807013950",
   "metadata": {},
   "outputs": [
    {
     "data": {
      "text/plain": [
       "#5 (generic function with 2 methods)"
      ]
     },
     "execution_count": 8,
     "metadata": {},
     "output_type": "execute_result"
    }
   ],
   "source": [
    "# リモートプロセス上でジョブを実行\n",
    "# スリープしたあとランダムな値を返すだけ\n",
    "remote_f = function(s::Int=3)\n",
    "    println(\"Worker $(myid()) will sleep for $s seconds\")\n",
    "    sleep(s)\n",
    "    val = rand(1:1000)\n",
    "    println(\"Completed worker $(myid()) - return $val\")\n",
    "    return val\n",
    "end"
   ]
  },
  {
   "cell_type": "code",
   "execution_count": 9,
   "id": "cf3d167f-ad2a-4e03-84a7-c1318825ed3d",
   "metadata": {},
   "outputs": [
    {
     "name": "stdout",
     "output_type": "stream",
     "text": [
      "      From worker 2:\tWorker 2 will sleep for 4 seconds\n",
      "      From worker 2:\tCompleted worker 2 - return 531\n"
     ]
    },
    {
     "data": {
      "text/plain": [
       "531"
      ]
     },
     "execution_count": 9,
     "metadata": {},
     "output_type": "execute_result"
    }
   ],
   "source": [
    "@fetchfrom 2 remote_f(4) # ID2のワーカで実行"
   ]
  },
  {
   "cell_type": "code",
   "execution_count": null,
   "id": "c34f3136-269d-4fff-a5bb-d8c9bc286c31",
   "metadata": {},
   "outputs": [],
   "source": [
    "function run_timeout(timeout::Int, f::Function, params...)    \n",
    "    wid = addprocs(1)[1]\n",
    "    result = RemoteChannel(()->Channel{Tuple}(1));\n",
    "    @spawnat wid put!(result, (f(params...), myid()))\n",
    "    res = nothing\n",
    "    time_elapsed = 0.0\n",
    "    while time_elapsed < timeout && !isready(result)\n",
    "        sleep(0.25)\n",
    "        time_elapsed += 0.25\n",
    "    end\n",
    "    if !isready(result)\n",
    "        println(\"Not completed! Computation at $wid will be terminated!\")\n",
    "    else\n",
    "        res = take!(result)\n",
    "    end\n",
    "    rmprocs(wid);\n",
    "    return res\n",
    "end"
   ]
  },
  {
   "cell_type": "code",
   "execution_count": null,
   "id": "1dd13d01-eefb-41a0-9934-63f9c6a3db97",
   "metadata": {},
   "outputs": [],
   "source": []
  },
  {
   "cell_type": "code",
   "execution_count": null,
   "id": "d39986f9-4d45-4817-8da8-dd204830afa1",
   "metadata": {},
   "outputs": [],
   "source": []
  },
  {
   "cell_type": "code",
   "execution_count": null,
   "id": "7f076083-e7c9-4bcc-9a81-36a69b157c72",
   "metadata": {},
   "outputs": [],
   "source": []
  },
  {
   "cell_type": "code",
   "execution_count": null,
   "id": "bd96a186-fcd1-46e1-b8ed-88b672ff9186",
   "metadata": {},
   "outputs": [],
   "source": []
  }
 ],
 "metadata": {
  "kernelspec": {
   "display_name": "Julia 1.5.2",
   "language": "julia",
   "name": "julia-1.5"
  },
  "language_info": {
   "file_extension": ".jl",
   "mimetype": "application/julia",
   "name": "julia",
   "version": "1.5.2"
  }
 },
 "nbformat": 4,
 "nbformat_minor": 5
}
