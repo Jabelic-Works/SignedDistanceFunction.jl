{
 "cells": [
  {
   "cell_type": "code",
   "execution_count": 1,
   "id": "58b65cc8-9d47-4526-b8e0-afb8b0e3791e",
   "metadata": {},
   "outputs": [],
   "source": [
    "using LinearAlgebra"
   ]
  },
  {
   "cell_type": "code",
   "execution_count": 2,
   "id": "1445427d-7086-4abb-bd23-ad9fcd1d5b13",
   "metadata": {},
   "outputs": [
    {
     "data": {
      "text/plain": [
       "Eigen{Float64,Float64,Array{Float64,2},Array{Float64,1}}\n",
       "values:\n",
       "3-element Array{Float64,1}:\n",
       " 0.9999999999999992\n",
       " 1.0\n",
       " 3.999999999999993\n",
       "vectors:\n",
       "3×3 Array{Float64,2}:\n",
       " -0.0698557   0.813503  -0.57735\n",
       " -0.669586   -0.467248  -0.57735\n",
       "  0.739442   -0.346255  -0.57735"
      ]
     },
     "execution_count": 2,
     "metadata": {},
     "output_type": "execute_result"
    }
   ],
   "source": [
    "f = eigen([2 1 1;1 2 1;1 1 2])"
   ]
  },
  {
   "cell_type": "code",
   "execution_count": 3,
   "id": "9b009509-676e-4fd4-9cab-475a5b13f548",
   "metadata": {},
   "outputs": [
    {
     "data": {
      "text/plain": [
       "3-element Array{Float64,1}:\n",
       " 0.9999999999999992\n",
       " 1.0\n",
       " 3.999999999999993"
      ]
     },
     "execution_count": 3,
     "metadata": {},
     "output_type": "execute_result"
    }
   ],
   "source": [
    "f.values"
   ]
  },
  {
   "cell_type": "code",
   "execution_count": null,
   "id": "6b0a8d49-fddb-47e9-abcd-aff1bec6c7ed",
   "metadata": {},
   "outputs": [],
   "source": []
  },
  {
   "cell_type": "code",
   "execution_count": null,
   "id": "df3ff4e2-84e6-4c5c-a24e-c19343626e60",
   "metadata": {},
   "outputs": [],
   "source": []
  },
  {
   "cell_type": "code",
   "execution_count": null,
   "id": "d6d63366-e42f-4c8a-bbed-61ae00c0ab53",
   "metadata": {},
   "outputs": [],
   "source": []
  },
  {
   "cell_type": "code",
   "execution_count": null,
   "id": "8d2c01f0-d4c0-46f9-9c9f-7fd5445512ea",
   "metadata": {},
   "outputs": [],
   "source": []
  }
 ],
 "metadata": {
  "kernelspec": {
   "display_name": "Julia 1.5.2",
   "language": "julia",
   "name": "julia-1.5"
  },
  "language_info": {
   "file_extension": ".jl",
   "mimetype": "application/julia",
   "name": "julia",
   "version": "1.5.2"
  }
 },
 "nbformat": 4,
 "nbformat_minor": 5
}
