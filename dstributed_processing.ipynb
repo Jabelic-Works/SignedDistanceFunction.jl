{
 "cells": [
  {
   "cell_type": "code",
   "execution_count": 1,
   "id": "1de713ce-d886-4f6a-8f32-a16beb4f1688",
   "metadata": {},
   "outputs": [],
   "source": [
    "using Distributed"
   ]
  },
  {
   "cell_type": "code",
   "execution_count": 2,
   "id": "694aad27-a123-408e-a910-4c23e1b0bc7d",
   "metadata": {},
   "outputs": [
    {
     "data": {
      "text/plain": [
       "1-element Array{Int64,1}:\n",
       " 2"
      ]
     },
     "execution_count": 2,
     "metadata": {},
     "output_type": "execute_result"
    }
   ],
   "source": [
    "addprocs(1) # リモートのワーカプロセスを追加\n",
    "# このほかにjuliaを起動するときに `$ julia -p 2` とすることでマスタプロセスと2つのワーカプロセスが起動する。"
   ]
  },
  {
   "cell_type": "code",
   "execution_count": 3,
   "id": "d8c44713-0c2e-4ff5-90d1-20959989ad82",
   "metadata": {},
   "outputs": [
    {
     "data": {
      "text/plain": [
       "1"
      ]
     },
     "execution_count": 3,
     "metadata": {},
     "output_type": "execute_result"
    }
   ],
   "source": [
    "Distributed.myid() # マスタワーカプロセスのId番号"
   ]
  },
  {
   "cell_type": "code",
   "execution_count": 4,
   "id": "7f577bca-f01f-4321-a14d-62b0e50cba76",
   "metadata": {},
   "outputs": [
    {
     "data": {
      "text/plain": [
       "1-element Array{Int64,1}:\n",
       " 2"
      ]
     },
     "execution_count": 4,
     "metadata": {},
     "output_type": "execute_result"
    }
   ],
   "source": [
    "workers() # リモートワーカプロセスのID"
   ]
  },
  {
   "cell_type": "code",
   "execution_count": 6,
   "id": "2085c9a0-746c-4ac6-967c-9f9857524cc7",
   "metadata": {},
   "outputs": [
    {
     "data": {
      "text/plain": [
       "Future(2, 1, 3, nothing)"
      ]
     },
     "execution_count": 6,
     "metadata": {},
     "output_type": "execute_result"
    }
   ],
   "source": [
    "res = @spawnat 2 myid()"
   ]
  },
  {
   "cell_type": "code",
   "execution_count": 7,
   "id": "24a47588-015f-47fc-be96-7076c27f232c",
   "metadata": {},
   "outputs": [
    {
     "data": {
      "text/plain": [
       "2"
      ]
     },
     "execution_count": 7,
     "metadata": {},
     "output_type": "execute_result"
    }
   ],
   "source": [
    "fetch(res)"
   ]
  },
  {
   "cell_type": "code",
   "execution_count": 8,
   "id": "ce0580ec-dfad-4c7d-a6c2-9a0807013950",
   "metadata": {},
   "outputs": [
    {
     "data": {
      "text/plain": [
       "#5 (generic function with 2 methods)"
      ]
     },
     "execution_count": 8,
     "metadata": {},
     "output_type": "execute_result"
    }
   ],
   "source": [
    "# リモートプロセス上でジョブを実行\n",
    "# スリープしたあとランダムな値を返すだけ\n",
    "remote_f = function(s::Int=3)\n",
    "    println(\"Worker $(myid()) will sleep for $s seconds\")\n",
    "    sleep(s)\n",
    "    val = rand(1:1000)\n",
    "    println(\"Completed worker $(myid()) - return $val\")\n",
    "    return val\n",
    "end"
   ]
  },
  {
   "cell_type": "code",
   "execution_count": 9,
   "id": "cf3d167f-ad2a-4e03-84a7-c1318825ed3d",
   "metadata": {},
   "outputs": [
    {
     "name": "stdout",
     "output_type": "stream",
     "text": [
      "      From worker 2:\tWorker 2 will sleep for 4 seconds\n",
      "      From worker 2:\tCompleted worker 2 - return 531\n"
     ]
    },
    {
     "data": {
      "text/plain": [
       "531"
      ]
     },
     "execution_count": 9,
     "metadata": {},
     "output_type": "execute_result"
    }
   ],
   "source": [
    "@fetchfrom 2 remote_f(4) # ID2のワーカで実行"
   ]
  },
  {
   "cell_type": "code",
   "execution_count": 23,
   "id": "c34f3136-269d-4fff-a5bb-d8c9bc286c31",
   "metadata": {},
   "outputs": [
    {
     "data": {
      "text/plain": [
       "run_timeout (generic function with 1 method)"
      ]
     },
     "execution_count": 23,
     "metadata": {},
     "output_type": "execute_result"
    }
   ],
   "source": [
    "function run_timeout(timeout::Int, f::Function, params...)    \n",
    "    wid = addprocs(1)[1]\n",
    "    result = RemoteChannel(()->Channel{Tuple}(1));\n",
    "    @spawnat wid put!(result, (f(params...), myid()))\n",
    "    res = nothing\n",
    "    time_elapsed = 0.0\n",
    "    while time_elapsed < timeout && !isready(result)\n",
    "        sleep(0.25)\n",
    "        time_elapsed += 0.25\n",
    "    end\n",
    "    if !isready(result)\n",
    "        println(\"Not completed! Computation at $wid will be terminated!\")\n",
    "    else\n",
    "        res = take!(result)\n",
    "    end\n",
    "    rmprocs(wid);\n",
    "    return res\n",
    "end"
   ]
  },
  {
   "cell_type": "code",
   "execution_count": 24,
   "id": "1dd13d01-eefb-41a0-9934-63f9c6a3db97",
   "metadata": {},
   "outputs": [
    {
     "name": "stdout",
     "output_type": "stream",
     "text": [
      "      From worker 3:\tWorker 3 will sleep for 2 seconds\n",
      "      From worker 3:\tCompleted worker 3 - return 595\n"
     ]
    },
    {
     "data": {
      "text/plain": [
       "(595, 3)"
      ]
     },
     "execution_count": 24,
     "metadata": {},
     "output_type": "execute_result"
    }
   ],
   "source": [
    "run_timeout(3, remote_f, 2)"
   ]
  },
  {
   "cell_type": "code",
   "execution_count": 29,
   "id": "d39986f9-4d45-4817-8da8-dd204830afa1",
   "metadata": {},
   "outputs": [
    {
     "name": "stdout",
     "output_type": "stream",
     "text": [
      "      From worker 6:\tWorker 6 will sleep for 10 seconds\n",
      "Not completed! Computation at 6 will be terminated!\n"
     ]
    }
   ],
   "source": [
    "run_timeout(3, remote_f, 10)"
   ]
  },
  {
   "cell_type": "code",
   "execution_count": 27,
   "id": "7f076083-e7c9-4bcc-9a81-36a69b157c72",
   "metadata": {},
   "outputs": [
    {
     "data": {
      "text/plain": [
       "1-element Array{Int64,1}:\n",
       " 2"
      ]
     },
     "execution_count": 27,
     "metadata": {},
     "output_type": "execute_result"
    }
   ],
   "source": [
    "workers()"
   ]
  },
  {
   "cell_type": "code",
   "execution_count": 30,
   "id": "bd96a186-fcd1-46e1-b8ed-88b672ff9186",
   "metadata": {},
   "outputs": [],
   "source": [
    "# リモートプロセス上で関数を実行する場合は各リモートプロセス上で定義されていなければならない\n",
    "# または, @everywhere マクロを用いればよい"
   ]
  },
  {
   "cell_type": "code",
   "execution_count": null,
   "id": "a1a4876a-c7df-4881-9794-b36d39446f3d",
   "metadata": {},
   "outputs": [],
   "source": []
  },
  {
   "cell_type": "code",
   "execution_count": null,
   "id": "cde6fc93-0e80-435f-946e-2e9a16ffbba5",
   "metadata": {},
   "outputs": [],
   "source": [
    "## multithread"
   ]
  },
  {
   "cell_type": "code",
   "execution_count": 1,
   "id": "6f4a731b-3885-4ee6-9f00-8bf4b460b384",
   "metadata": {},
   "outputs": [
    {
     "data": {
      "text/plain": [
       "1"
      ]
     },
     "execution_count": 1,
     "metadata": {},
     "output_type": "execute_result"
    }
   ],
   "source": [
    "Threads.nthreads()"
   ]
  },
  {
   "cell_type": "code",
   "execution_count": 3,
   "id": "effb15a5-2f31-4649-83b5-c5d5a8319c69",
   "metadata": {},
   "outputs": [],
   "source": [
    "using DataFrames, BenchmarkTools, Random, Statistics"
   ]
  },
  {
   "cell_type": "code",
   "execution_count": 4,
   "id": "ac782b87-6a43-4430-b14e-e0a53ec098bd",
   "metadata": {},
   "outputs": [
    {
     "data": {
      "text/plain": [
       "100000-element Array{Float64,1}:\n",
       "   9.421511016490118\n",
       "  -4.222008285708796\n",
       "   1.1451481790872424\n",
       "   0.6222675834409342\n",
       "   8.848740553387213\n",
       "   3.4493258003813305\n",
       "  -8.282638203983423\n",
       "   0.3470873789692497\n",
       "   3.7722799618130427\n",
       "   4.5430278996270905\n",
       "   1.329011567665244\n",
       "  20.252304526349114\n",
       "  -6.042228472162345\n",
       "   ⋮\n",
       "  -1.6635711096492036\n",
       "  19.117817531821682\n",
       "  -1.6948429867987025\n",
       " -20.52158031179198\n",
       "  -4.4710010700941885\n",
       "  -8.262883044729193\n",
       "  -1.2888780603901364\n",
       "  -2.429057365920029\n",
       "  -0.6817034496730191\n",
       "   2.1599875669117377\n",
       " -10.124861071547029\n",
       "  -6.339531210064506"
      ]
     },
     "execution_count": 4,
     "metadata": {},
     "output_type": "execute_result"
    }
   ],
   "source": [
    "Random.seed!(0)\n",
    "N=100_000\n",
    "const data = DataFrame(rowtype=rand(1:12,N))\n",
    "data.x1 = data.rowtype .* randn(N)"
   ]
  },
  {
   "cell_type": "code",
   "execution_count": 6,
   "id": "e5d2a7fd-9434-46d8-b0ba-a11d402574b0",
   "metadata": {},
   "outputs": [
    {
     "data": {
      "text/html": [
       "<table class=\"data-frame\"><thead><tr><th></th><th>rowtype</th><th>x1</th></tr><tr><th></th><th>Int64</th><th>Float64</th></tr></thead><tbody><p>5 rows × 2 columns</p><tr><th>1</th><td>9</td><td>9.42151</td></tr><tr><th>2</th><td>2</td><td>-4.22201</td></tr><tr><th>3</th><td>6</td><td>1.14515</td></tr><tr><th>4</th><td>2</td><td>0.622268</td></tr><tr><th>5</th><td>12</td><td>8.84874</td></tr></tbody></table>"
      ],
      "text/latex": [
       "\\begin{tabular}{r|cc}\n",
       "\t& rowtype & x1\\\\\n",
       "\t\\hline\n",
       "\t& Int64 & Float64\\\\\n",
       "\t\\hline\n",
       "\t1 & 9 & 9.42151 \\\\\n",
       "\t2 & 2 & -4.22201 \\\\\n",
       "\t3 & 6 & 1.14515 \\\\\n",
       "\t4 & 2 & 0.622268 \\\\\n",
       "\t5 & 12 & 8.84874 \\\\\n",
       "\\end{tabular}\n"
      ],
      "text/plain": [
       "\u001b[1m5×2 DataFrame\u001b[0m\n",
       "\u001b[1m Row \u001b[0m│\u001b[1m rowtype \u001b[0m\u001b[1m x1        \u001b[0m\n",
       "\u001b[1m     \u001b[0m│\u001b[90m Int64   \u001b[0m\u001b[90m Float64   \u001b[0m\n",
       "─────┼────────────────────\n",
       "   1 │       9   9.42151\n",
       "   2 │       2  -4.22201\n",
       "   3 │       6   1.14515\n",
       "   4 │       2   0.622268\n",
       "   5 │      12   8.84874"
      ]
     },
     "execution_count": 6,
     "metadata": {},
     "output_type": "execute_result"
    }
   ],
   "source": [
    "first(data, 5)"
   ]
  },
  {
   "cell_type": "code",
   "execution_count": null,
   "id": "0534aa59-31de-4cc2-9778-92fa77ba6240",
   "metadata": {},
   "outputs": [],
   "source": []
  },
  {
   "cell_type": "code",
   "execution_count": null,
   "id": "2749ee92-5156-4cc8-9413-354f36cee29a",
   "metadata": {},
   "outputs": [],
   "source": []
  },
  {
   "cell_type": "code",
   "execution_count": null,
   "id": "ea9e6d60-71fe-4375-b8a8-a675b97c0554",
   "metadata": {},
   "outputs": [],
   "source": []
  }
 ],
 "metadata": {
  "kernelspec": {
   "display_name": "Julia 1.5.2",
   "language": "julia",
   "name": "julia-1.5"
  },
  "language_info": {
   "file_extension": ".jl",
   "mimetype": "application/julia",
   "name": "julia",
   "version": "1.5.2"
  }
 },
 "nbformat": 4,
 "nbformat_minor": 5
}
