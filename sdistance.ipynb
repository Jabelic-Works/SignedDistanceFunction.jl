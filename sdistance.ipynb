{
 "cells": [
  {
   "cell_type": "code",
   "execution_count": 1,
   "id": "56254d70-d83e-44e4-aae8-b510a620a011",
   "metadata": {},
   "outputs": [],
   "source": [
    "using CSV, DataFrames, Plots, DelimitedFiles, Luxor, BenchmarkTools, Distributed"
   ]
  },
  {
   "cell_type": "code",
   "execution_count": 2,
   "id": "497294f3-a438-423a-9a99-5fb9f35c9ed4",
   "metadata": {},
   "outputs": [
    {
     "data": {
      "text/plain": [
       "distance (generic function with 1 method)"
      ]
     },
     "execution_count": 2,
     "metadata": {},
     "output_type": "execute_result"
    }
   ],
   "source": [
    "function distance(px, py, gem) # TODO: 型\n",
    "    cand = 1000.0\n",
    "    for i = 1:length(gem[:,1])\n",
    "        distnow = sqrt((gem[i,1] - px)^2 + (gem[i,2] - py)^2)\n",
    "        if (distnow < cand)\n",
    "            cand = distnow\n",
    "        end\n",
    "    end\n",
    "    return cand\n",
    "end\n"
   ]
  },
  {
   "cell_type": "code",
   "execution_count": null,
   "id": "96c38f67-652c-4023-9fc4-7845a5433b47",
   "metadata": {},
   "outputs": [],
   "source": []
  },
  {
   "cell_type": "code",
   "execution_count": 3,
   "id": "18dc672e-6071-4501-b7ef-e5b566c0a6f1",
   "metadata": {},
   "outputs": [
    {
     "data": {
      "text/plain": [
       "draw (generic function with 1 method)"
      ]
     },
     "execution_count": 3,
     "metadata": {},
     "output_type": "execute_result"
    }
   ],
   "source": [
    "function draw(_x, _y, _phi)\n",
    "    p = contour(_x, _y,_phi)\n",
    "    #q = plot(_x, _y,_phi, st=:surface)\n",
    "    q = surface(_x, _y,_phi)\n",
    "    r = plot(_x, _y,_phi, st=:heatmap)\n",
    "    plot(p, q, r, layout=(3,1), size=(400,900))\n",
    "#     plot(p, q, r, layout=(1,3), size=(900,160))\n",
    "#     savefig(\"signed_distance.png\")\n",
    "end"
   ]
  },
  {
   "cell_type": "code",
   "execution_count": 4,
   "id": "b707b7df-9436-49f5-b562-dba3f947f4eb",
   "metadata": {},
   "outputs": [
    {
     "data": {
      "text/plain": [
       "judge_para (generic function with 1 method)"
      ]
     },
     "execution_count": 4,
     "metadata": {},
     "output_type": "execute_result"
    }
   ],
   "source": [
    "\n",
    "function judge_(_x, _y, _gem)\n",
    "    x_length = length(_x[:,1])\n",
    "    return_value = zeros(Float64, x_length, x_length)\n",
    "    for indexI = 1:length(_y)\n",
    "        for indexJ = 1:length(_x)\n",
    "            sdist = 1.0 * distance(_x[indexJ], _y[indexI], _gem)\n",
    "            if isinside(Point(_x[indexJ], _y[indexI]), [Point(_gem[i,1], _gem[i,2]) for i=1:length(_gem[:,1])])\n",
    "                sdist = (-1) * sdist\n",
    "            end\n",
    "            return_value[indexI,indexJ]=sdist\n",
    "        end\n",
    "    end\n",
    "    return return_value\n",
    "end\n",
    "\n",
    "\n",
    "\"\n",
    "https://qiita.com/hidemotoNakada/items/71b95dfb485149b31f8e\n",
    "これをせずに @spawnat :any を追加しただけで速くなった？(表示は遅い、実際は遅いのでは？)\n",
    "なんか違うみたい。playgroundで練習。\n",
    "\"\n",
    "\n",
    "function judge_para(_x, _y, _gem)\n",
    "    x_length = length(_x[:,1])\n",
    "    return_value = zeros(Float64, x_length, x_length)\n",
    "#     p = @spawnat :any \n",
    "    for indexI = 1:length(_y)\n",
    "#         Threads.@threads :static for indexJ = 1:length(_x) # こっちじゃ速くならない\n",
    "        for indexJ = 1:length(_x)\n",
    "            sdist = 1.0 * distance(_x[indexJ], _y[indexI], _gem)\n",
    "            tmp = @spawnat :any isinside(Point(_x[indexJ], _y[indexI]), [Point(_gem[i,1], _gem[i,2]) for i=1:length(_gem[:,1])])\n",
    "#             print(fetch(tmp))\n",
    "#             if isinside(Point(_x[indexJ], _y[indexI]), [Point(_gem[i,1], _gem[i,2]) for i=1:length(_gem[:,1])])\n",
    "            if fetch(tmp)\n",
    "                sdist = (-1) * sdist\n",
    "            end\n",
    "            return_value[indexI,indexJ]=sdist\n",
    "        end\n",
    "#         println(fetch(p))\n",
    "    end\n",
    "    return return_value\n",
    "end"
   ]
  },
  {
   "cell_type": "code",
   "execution_count": 13,
   "id": "93f16a0d-52d1-400a-931a-bc483c3c0235",
   "metadata": {},
   "outputs": [
    {
     "data": {
      "text/plain": [
       "complement (generic function with 2 methods)"
      ]
     },
     "execution_count": 13,
     "metadata": {},
     "output_type": "execute_result"
    }
   ],
   "source": [
    "# FIXME: 倍々ではなく, linearに補完数を指定できるように。\n",
    "\n",
    "\"n行目とn+1行目の間のデータを補完,境界条件を付与 (50, 2)->(100, 2)\"\n",
    "function complement_p(array)\n",
    "    (x, y) = size(array)\n",
    "    return_value = zeros(Float64, 2*x, y)\n",
    "    for i = 1: x-1\n",
    "        return_value[i*2-1, :] = array[i, :]\n",
    "        return_value[i*2, :] = (array[i, :] .+ array[i+1, :])./2\n",
    "    end\n",
    "    return_value[x*2-1, :] = array[x, :]\n",
    "    return_value[x*2, :] = array[1, :]# Note: _gem += _gem's head line coz boundary condition. size: (N+1,2)\n",
    "    return return_value\n",
    "end\n",
    "# function complement(array::Array{Float64,2}, times::UInt64)\n",
    "function complement(array, times)\n",
    "    tmp = []\n",
    "    for i = 1: times\n",
    "        tmp = complement_p(array)\n",
    "        array = tmp\n",
    "    end\n",
    "    return tmp\n",
    "end"
   ]
  },
  {
   "cell_type": "code",
   "execution_count": 17,
   "id": "566db2ec-0dcd-4f6a-92dd-0ab6b5679793",
   "metadata": {},
   "outputs": [
    {
     "name": "stdout",
     "output_type": "stream",
     "text": [
      "_gen size(200, 2)\n",
      "0.914027259\n"
     ]
    }
   ],
   "source": [
    "function main()\n",
    "    # create the computational domain\n",
    "    N = 300\n",
    "    L = 1.5\n",
    "    _phi = zeros(Float64, N+1, N+1)\n",
    "    \n",
    "    # ganma曲線 data 読み込みちょっと遅いかも. (50 x 2)\n",
    "    # https://qiita.com/HiroyukiTachikawa/items/e01917ade931031ec6a1\n",
    "    _gem = readdlm(\"./interface.csv\", ',', Float64)\n",
    "    _gem = complement(_gem, 2)\n",
    "    println(\"_gen size\",size(_gem))\n",
    "    _x = [i for i = -L:2 * L / N:L] # len:N+1 \n",
    "    _y = [i for i = -L:2 * L / N:L] # len:N+1\n",
    "    \n",
    "    runtime_ave = 0\n",
    "    exetimes = 3\n",
    "\n",
    "    for i=1:exetimes\n",
    "        _phi, runtime = @timed judge_(_x, _y, _gem)\n",
    "#         _phi, runtime = @timed judge_para(_x, _y, _gem)\n",
    "        runtime_ave += runtime\n",
    "    end\n",
    "    println(runtime_ave/exetimes)\n",
    "\n",
    "#     draw(_x, _y, _phi)\n",
    "end\n",
    "\n",
    "\n",
    "main()"
   ]
  },
  {
   "cell_type": "code",
   "execution_count": null,
   "id": "eca7390b-272a-4fcd-a05d-4d37c142bc68",
   "metadata": {},
   "outputs": [],
   "source": []
  },
  {
   "cell_type": "code",
   "execution_count": 206,
   "id": "ab64e499-576d-4106-a652-6adbfa0d0186",
   "metadata": {},
   "outputs": [
    {
     "data": {
      "text/plain": [
       "2-element Array{Int64,1}:\n",
       "  1\n",
       " -1"
      ]
     },
     "execution_count": 206,
     "metadata": {},
     "output_type": "execute_result"
    }
   ],
   "source": []
  },
  {
   "cell_type": "code",
   "execution_count": null,
   "id": "abcf1ae2-a7ee-4102-bf39-ea26398a7542",
   "metadata": {},
   "outputs": [],
   "source": []
  }
 ],
 "metadata": {
  "kernelspec": {
   "display_name": "Julia 1.5.2",
   "language": "julia",
   "name": "julia-1.5"
  },
  "language_info": {
   "file_extension": ".jl",
   "mimetype": "application/julia",
   "name": "julia",
   "version": "1.5.2"
  }
 },
 "nbformat": 4,
 "nbformat_minor": 5
}
