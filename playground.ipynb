{
 "cells": [
  {
   "cell_type": "code",
   "execution_count": 2,
   "id": "838f89ce-56f2-40eb-a14a-c55fbc28a5cf",
   "metadata": {},
   "outputs": [
    {
     "name": "stderr",
     "output_type": "stream",
     "text": [
      "┌ Info: Precompiling DifferentialEquations [0c46a032-eb83-5123-abaf-570d42b7fbaa]\n",
      "└ @ Base loading.jl:1278\n"
     ]
    }
   ],
   "source": [
    "using Pkg\n",
    "# Pkg.add(\"DifferentialEquations\")\n",
    "# Pkg.add(\"Plots\")\n",
    "using DifferentialEquations\n",
    "using Plots\n"
   ]
  },
  {
   "cell_type": "code",
   "execution_count": null,
   "id": "13cd89c9-0a76-40a9-bd7e-cddded7865e7",
   "metadata": {},
   "outputs": [],
   "source": []
  },
  {
   "cell_type": "code",
   "execution_count": 1,
   "id": "0bc39bae-49a2-4738-9af5-71332b02b783",
   "metadata": {},
   "outputs": [
    {
     "ename": "LoadError",
     "evalue": "\u001b[91mUndefVarError: contour not defined\u001b[39m",
     "output_type": "error",
     "traceback": [
      "\u001b[91mUndefVarError: contour not defined\u001b[39m",
      "",
      "Stacktrace:",
      " [1] top-level scope at In[1]:9",
      " [2] include_string(::Function, ::Module, ::String, ::String) at ./loading.jl:1091"
     ]
    }
   ],
   "source": [
    "x = 1:0.5:20\n",
    "y = 1:0.5:10\n",
    "f(x, y) = begin\n",
    "        (3x + y ^ 2) * abs(sin(x) + cos(y))\n",
    "    end\n",
    "X = repeat(reshape(x, 1, :), length(y), 1)\n",
    "Y = repeat(y, 1, length(x))\n",
    "Z = map(f, X, Y)\n",
    "p1 = contour(x, y, f, fill = true)\n",
    "p2 = contour(x, y, Z)\n",
    "plot(p1, p2)"
   ]
  },
  {
   "cell_type": "code",
   "execution_count": 17,
   "id": "f278a06d-f33e-43ad-9b34-69eb621a97e3",
   "metadata": {},
   "outputs": [
    {
     "name": "stdout",
     "output_type": "stream",
     "text": [
      "(19, 39)\n",
      "(39,)\n",
      "(19, 39)\n",
      "(19,)\n",
      "(19, 39)\n"
     ]
    }
   ],
   "source": [
    "## 等高線でplot, かつ描画結果も同じところにplot\n",
    "println(size(X))\n",
    "println(size(x))\n",
    "println(size(Y))\n",
    "println(size(y))\n",
    "println(size(Z))"
   ]
  },
  {
   "cell_type": "code",
   "execution_count": 25,
   "id": "97d82980-0655-4e17-8411-1e6eb5617c69",
   "metadata": {},
   "outputs": [
    {
     "data": {
      "text/plain": [
       "19×39 Array{Float64,2}:\n",
       "  5.52709    8.45789    10.1472    …   40.0304     68.1776     88.6481\n",
       "  4.78909    7.21057     8.08529       13.0714     41.0838     61.2342\n",
       "  2.97727    4.94146     4.93151       16.2424     11.8371     31.7951\n",
       "  0.373028   2.11078     1.32488       41.1926     12.6653      7.40686\n",
       "  1.78226    0.101284    1.21043       55.4476     25.9506      5.31626\n",
       "  1.44853    1.02239     0.495657  …   54.4706     23.4124      1.6987\n",
       "  3.56872    7.04895     5.62438       36.7749      3.58373    19.7069\n",
       " 14.6632    19.4708     18.3357         4.70596    31.0861     56.3475\n",
       " 31.5037    37.7941     36.9817        35.5502     74.2484    101.712\n",
       " 51.5422    59.2892     58.6513        74.9082    116.636     146.351\n",
       " 70.264     79.2854     78.5176    …  103.234     147.96      179.819\n",
       " 82.2672    92.2884     90.994        111.802     159.399     193.205\n",
       " 82.9594    93.6998     91.476         95.8006    146.14      181.686\n",
       " 70.3953    81.6559     78.1818        56.23      109.262     146.426\n",
       " 46.6301    58.3617     53.4658         0.529638   56.3549     95.1632\n",
       " 18.0193    30.3533     24.0451    …   58.4384      0.461282   41.1209\n",
       "  5.85138    7.38418     0.159457     105.053      42.6299      0.255913\n",
       " 14.5191     0.0305882   8.45794      124.764      58.2553     12.6551\n",
       "  0.247144  16.5553      7.44395      108.204      37.0148     11.8198"
      ]
     },
     "execution_count": 25,
     "metadata": {},
     "output_type": "execute_result"
    }
   ],
   "source": [
    "Z"
   ]
  },
  {
   "cell_type": "code",
   "execution_count": null,
   "id": "d5b71a8b-972a-4a89-a6b2-f5392a1c1132",
   "metadata": {},
   "outputs": [],
   "source": [
    "function vdp_sun(du, u, p, t)\n",
    "    # dx/dt\n",
    "    du[1] = u[2]\n",
    "    # dy/dt\n",
    "    du[2] = mu * (1.0 - u[1]^2.0) * u[2] - u[1]\n",
    "    du\n",
    "end"
   ]
  },
  {
   "cell_type": "code",
   "execution_count": 20,
   "id": "7d33777a-84a6-4fbe-98da-d50516b3ef8d",
   "metadata": {},
   "outputs": [
    {
     "data": {
      "text/plain": [
       "101-element Array{Float64,1}:\n",
       " -2.0\n",
       " -1.96\n",
       " -1.92\n",
       " -1.88\n",
       " -1.84\n",
       " -1.8\n",
       " -1.76\n",
       " -1.72\n",
       " -1.68\n",
       " -1.64\n",
       " -1.6\n",
       " -1.56\n",
       " -1.52\n",
       "  ⋮\n",
       "  1.56\n",
       "  1.6\n",
       "  1.64\n",
       "  1.68\n",
       "  1.72\n",
       "  1.76\n",
       "  1.8\n",
       "  1.84\n",
       "  1.88\n",
       "  1.92\n",
       "  1.96\n",
       "  2.0"
      ]
     },
     "execution_count": 20,
     "metadata": {},
     "output_type": "execute_result"
    }
   ],
   "source": [
    "N = 100\n",
    "L = 2\n",
    "x = [i for i = -L:2*L/N:L]\n"
   ]
  },
  {
   "cell_type": "code",
   "execution_count": 33,
   "id": "145cdeb7-d460-4f58-9e16-5c055ad2f751",
   "metadata": {},
   "outputs": [
    {
     "name": "stdout",
     "output_type": "stream",
     "text": [
      "[1.0 2.0; 2.0 3.0; 3.0 4.0; 4.0 5.0; 5.0 6.0; 6.0 7.0; 7.0 8.0; 1.0 2.0]"
     ]
    }
   ],
   "source": [
    "\n",
    "\"n行目とn+1行目の間のデータを補完　(50, 2)->(99, 2)\"\n",
    "function zip_dubble(array)\n",
    "    (x, y) = size(array)\n",
    "    return_value = zeros(Float64, 2*x, y)\n",
    "    for i = 1: x-1\n",
    "        return_value[i*2-1, :] = array[i, :]\n",
    "        return_value[i*2, :] = (array[i, :] .+ array[i+1, :])./2\n",
    "        \n",
    "    end\n",
    "    return_value[x*2-1, :] = array[x, :]\n",
    "    return_value[x*2, :] = array[1, :]\n",
    "    print(return_value)\n",
    "end\n",
    "zip_dubble([1 2 ; 3 4; 5 6; 7 8])"
   ]
  },
  {
   "cell_type": "code",
   "execution_count": null,
   "id": "f8bc3419-d89f-479f-9f9a-6cc533b34eee",
   "metadata": {},
   "outputs": [],
   "source": []
  },
  {
   "cell_type": "code",
   "execution_count": 44,
   "id": "7f644394-8497-41de-88b9-b1a010d432c4",
   "metadata": {},
   "outputs": [
    {
     "data": {
      "text/plain": [
       "1"
      ]
     },
     "execution_count": 44,
     "metadata": {},
     "output_type": "execute_result"
    }
   ],
   "source": [
    "Threads.nthreads()"
   ]
  },
  {
   "cell_type": "code",
   "execution_count": null,
   "id": "3efaa4f2-4d62-4ac3-92a8-e83612b4e7d5",
   "metadata": {},
   "outputs": [],
   "source": []
  },
  {
   "cell_type": "code",
   "execution_count": null,
   "id": "0ff9e505-0e3d-4faf-b338-1130bc39741e",
   "metadata": {},
   "outputs": [],
   "source": []
  }
 ],
 "metadata": {
  "kernelspec": {
   "display_name": "Julia 1.5.2",
   "language": "julia",
   "name": "julia-1.5"
  },
  "language_info": {
   "file_extension": ".jl",
   "mimetype": "application/julia",
   "name": "julia",
   "version": "1.5.2"
  }
 },
 "nbformat": 4,
 "nbformat_minor": 5
}
